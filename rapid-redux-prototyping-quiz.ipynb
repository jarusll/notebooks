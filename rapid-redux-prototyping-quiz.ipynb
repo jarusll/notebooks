{
 "cells": [
  {
   "cell_type": "code",
   "execution_count": 3,
   "id": "b43e38ab-f48f-4779-af40-de4b73c255e4",
   "metadata": {},
   "outputs": [
    {
     "data": {
      "text/plain": [
       "[ { question: 'How hot is the surface of the sun?',\n",
       "    answers: [ '1,233 K', '5,778 K', '12,130 K', '101,300 K' ],\n",
       "    correctIndex: 1 },\n",
       "  { question: 'Who are the actors in The Internship?',\n",
       "    answers:\n",
       "     [ 'Ben Stiller, Jonah Hill',\n",
       "       'Courteney Cox, Matt LeBlanc',\n",
       "       'Kaley Cuoco, Jim Parsons',\n",
       "       'Vince Vaughn, Owen Wilson' ],\n",
       "    correctIndex: 3 },\n",
       "  { question: 'What is the capital of Spain?',\n",
       "    answers: [ 'Berlin', 'Buenos Aires', 'Madrid', 'San Juan' ],\n",
       "    correctIndex: 2 },\n",
       "  { question:\n",
       "     'What are the school colors of the University of Texas at Austin?',\n",
       "    answers:\n",
       "     [ 'Black, Red',\n",
       "       'Blue, Orange',\n",
       "       'White, Burnt Orange',\n",
       "       'White, Old gold, Gold' ],\n",
       "    correctIndex: 2 } ]"
      ]
     },
     "execution_count": 3,
     "metadata": {},
     "output_type": "execute_result"
    }
   ],
   "source": [
    "questionReducer(initialQuestionsState, {type: \"CHOOSE_ANSWER\"})"
   ]
  },
  {
   "cell_type": "markdown",
   "id": "3a034654-f034-4830-b546-a5bab45fc7c4",
   "metadata": {},
   "source": [
    "`scoreReducer` will track the count of correct answered questions.\n",
    "`payload.answerStatus` will contain answer state. `true` for `Correct` and `false` for `Incorrect` \n",
    "\n",
    "`scoreReducer(x, {type: \"CHOOSE_ANSWER\", payload: {answerStatus: true}})` => `x + 1`\n",
    "\n",
    "`scoreReducer(x, {type: \"CHOOSE_ANSWER\", payload: {answerStatus: false}})` => `x`"
   ]
  },
  {
   "cell_type": "code",
   "execution_count": 4,
   "id": "2eae69fa-4eb8-4bdb-aca8-d0a9daa34e56",
   "metadata": {
    "tags": []
   },
   "outputs": [],
   "source": [
    "const initialScore = 0"
   ]
  },
  {
   "cell_type": "code",
   "execution_count": 5,
   "id": "24c5fd45-fe10-46c3-87e6-44b4b89575d5",
   "metadata": {
    "tags": []
   },
   "outputs": [],
   "source": [
    "function scoreReducer(state = initialScore, action){\n",
    "    switch(action.type){\n",
    "        case \"CHOOSE_ANSWER\":\n",
    "            if (action.payload.answerStatus == true)\n",
    "                return state + 1\n",
    "            return state\n",
    "        default:\n",
    "            return state\n",
    "    }\n",
    "}"
   ]
  },
  {
   "cell_type": "markdown",
   "id": "5eb44094-a586-42a9-958d-757c95ca9bd7",
   "metadata": {},
   "source": [
    "Testing `scoreReducer`"
   ]
  },
  {
   "cell_type": "code",
   "execution_count": 6,
   "id": "cc7e90e9-e59c-4b79-8f02-1edfc7ded7b7",
   "metadata": {
    "tags": []
   },
   "outputs": [
    {
     "data": {
      "text/plain": [
       "1"
      ]
     },
     "execution_count": 6,
     "metadata": {},
     "output_type": "execute_result"
    }
   ],
   "source": [
    "scoreReducer(0, {type: \"CHOOSE_ANSWER\", payload: {answerStatus: true}})"
   ]
  },
  {
   "cell_type": "code",
   "execution_count": 7,
   "id": "eca56304-52b3-406c-96f3-921999a168fc",
   "metadata": {},
   "outputs": [
    {
     "data": {
      "text/plain": [
       "0"
      ]
     },
     "execution_count": 7,
     "metadata": {},
     "output_type": "execute_result"
    }
   ],
   "source": [
    "scoreReducer(0, {type: \"CHOOSE_ANSWER\", payload: {answerStatus: false}})"
   ]
  },
  {
   "cell_type": "markdown",
   "id": "2d776add-6e75-4076-aaf6-23d972743c8d",
   "metadata": {},
   "source": [
    "## Action name constants"
   ]
  },
  {
   "cell_type": "code",
   "execution_count": 8,
   "id": "b8583081-1f42-4f6b-af64-34d3ecd184da",
   "metadata": {},
   "outputs": [],
   "source": [
    "const START_QUIZ =  \"START_QUIZ\"\n",
    "const CHOOSE_ANSWER =  \"CHOOSE_ANSWER\"\n",
    "const END_QUIZ =  \"END_QUIZ\""
   ]
  },
  {
   "cell_type": "markdown",
   "id": "a325664e-4c10-4a6d-98a1-82ced35329fc",
   "metadata": {},
   "source": [
    "## Action creator "
   ]
  },
  {
   "cell_type": "code",
   "execution_count": 9,
   "id": "712f3a16-cd9d-45e8-b752-c5385d5e2235",
   "metadata": {},
   "outputs": [],
   "source": [
    "function chooseAnswer(choice, answer){\n",
    "    if (choice == answer)\n",
    "        return {\n",
    "            type: \"CHOOSE_ANSWER\",\n",
    "            payload: {\n",
    "                answerStatus: true\n",
    "            }\n",
    "        }\n",
    "    return {\n",
    "        type: \"CHOOSE_ANSWER\",\n",
    "        payload: {\n",
    "            answerStatus: false\n",
    "        }\n",
    "    }\n",
    "}"
   ]
  },
  {
   "cell_type": "code",
   "execution_count": 10,
   "id": "03343ad0-f571-4e1c-955e-eb2098703641",
   "metadata": {
    "tags": []
   },
   "outputs": [],
   "source": [
    "const redux = require('redux')"
   ]
  },
  {
   "cell_type": "markdown",
   "id": "479682cd-0652-476a-8b21-37dfd4c45300",
   "metadata": {},
   "source": [
    "Do we need combineReducers?\n",
    "- Yes, since we have multiple reducers, and a store can only have 1 reducer"
   ]
  },
  {
   "cell_type": "code",
   "execution_count": 11,
   "id": "72ac6d20-f96b-4e2a-81c5-1109f3a187ff",
   "metadata": {
    "tags": []
   },
   "outputs": [],
   "source": [
    "const { combineReducers } = redux"
   ]
  },
  {
   "cell_type": "markdown",
   "id": "e5616534-1bf2-41f6-b4db-e8758517f869",
   "metadata": {},
   "source": [
    "Every reducer is associated with a key in global state"
   ]
  },
  {
   "cell_type": "code",
   "execution_count": 12,
   "id": "03da5fa2-7560-45f4-86be-b93c7b7959e3",
   "metadata": {},
   "outputs": [],
   "source": [
    "let rootReducer = combineReducers({\n",
    "    questions: questionReducer,\n",
    "    score: scoreReducer\n",
    "})"
   ]
  },
  {
   "cell_type": "code",
   "execution_count": 13,
   "id": "6d19156b-0210-4045-8900-62fb8073bb51",
   "metadata": {},
   "outputs": [],
   "source": [
    "const { createStore } = redux"
   ]
  },
  {
   "cell_type": "code",
   "execution_count": 14,
   "id": "56c13f35-fa4f-4370-b3f7-60e8aed1c44b",
   "metadata": {
    "tags": []
   },
   "outputs": [],
   "source": [
    "let store = createStore(rootReducer)"
   ]
  },
  {
   "cell_type": "code",
   "execution_count": 15,
   "id": "900bcf2d-1929-4a5b-a1a6-d55b2859560c",
   "metadata": {},
   "outputs": [
    {
     "data": {
      "text/plain": [
       "{ questions:\n",
       "   [ { question: 'What is the scientific name of a butterfly?',\n",
       "       answers: [Array],\n",
       "       correctIndex: 3 },\n",
       "     { question: 'How hot is the surface of the sun?',\n",
       "       answers: [Array],\n",
       "       correctIndex: 1 },\n",
       "     { question: 'Who are the actors in The Internship?',\n",
       "       answers: [Array],\n",
       "       correctIndex: 3 },\n",
       "     { question: 'What is the capital of Spain?',\n",
       "       answers: [Array],\n",
       "       correctIndex: 2 },\n",
       "     { question:\n",
       "        'What are the school colors of the University of Texas at Austin?',\n",
       "       answers: [Array],\n",
       "       correctIndex: 2 } ],\n",
       "  score: 0 }"
      ]
     },
     "execution_count": 15,
     "metadata": {},
     "output_type": "execute_result"
    }
   ],
   "source": [
    "store.getState()"
   ]
  },
  {
   "cell_type": "code",
   "execution_count": 16,
   "id": "48633588-61ef-41c3-b942-fea986135729",
   "metadata": {},
   "outputs": [
    {
     "data": {
      "text/plain": [
       "{ question: 'What is the scientific name of a butterfly?',\n",
       "  answers: [ 'Apis', 'Coleoptera', 'Formicidae', 'Rhopalocera' ],\n",
       "  correctIndex: 3 }"
      ]
     },
     "execution_count": 16,
     "metadata": {},
     "output_type": "execute_result"
    }
   ],
   "source": [
    "store.getState().questions[0]"
   ]
  },
  {
   "cell_type": "code",
   "execution_count": 17,
   "id": "583372c0-8c89-4591-8094-e881f1829734",
   "metadata": {},
   "outputs": [
    {
     "data": {
      "text/plain": [
       "{ type: 'CHOOSE_ANSWER', payload: { answerStatus: false } }"
      ]
     },
     "execution_count": 17,
     "metadata": {},
     "output_type": "execute_result"
    }
   ],
   "source": [
    "store.dispatch(chooseAnswer(2, 3))"
   ]
  },
  {
   "cell_type": "code",
   "execution_count": 18,
   "id": "f3076569-0459-4060-a1e2-514794b2ea94",
   "metadata": {},
   "outputs": [
    {
     "data": {
      "text/plain": [
       "{ questions:\n",
       "   [ { question: 'How hot is the surface of the sun?',\n",
       "       answers: [Array],\n",
       "       correctIndex: 1 },\n",
       "     { question: 'Who are the actors in The Internship?',\n",
       "       answers: [Array],\n",
       "       correctIndex: 3 },\n",
       "     { question: 'What is the capital of Spain?',\n",
       "       answers: [Array],\n",
       "       correctIndex: 2 },\n",
       "     { question:\n",
       "        'What are the school colors of the University of Texas at Austin?',\n",
       "       answers: [Array],\n",
       "       correctIndex: 2 } ],\n",
       "  score: 0 }"
      ]
     },
     "execution_count": 18,
     "metadata": {},
     "output_type": "execute_result"
    }
   ],
   "source": [
    "store.getState()"
   ]
  },
  {
   "cell_type": "markdown",
   "id": "4ecd890e-3bc4-4834-86da-58fd83fffae3",
   "metadata": {},
   "source": [
    "So far so good.\n",
    "\n",
    "What happens when we reach end of questions?\n",
    "- The quiz ends\n",
    "\n",
    "Do we have any indicator for ending?\n",
    "- No\n",
    "\n",
    "Do we need a state indicating quiz status `START` or `END`?\n",
    "- Yes, lets call it `status`. `true` will indicate running and `false` will indicate end"
   ]
  },
  {
   "cell_type": "code",
   "execution_count": 19,
   "id": "17e4cb66-4e53-4f2e-8e97-1735f21cb358",
   "metadata": {},
   "outputs": [],
   "source": [
    "const initialQuizStatus = false"
   ]
  },
  {
   "cell_type": "code",
   "execution_count": 20,
   "id": "d0c6310e-cc6a-4e54-9d22-ed0be7dd16db",
   "metadata": {},
   "outputs": [],
   "source": [
    "function quizStatusReducer(state = initialQuizStatus, action){\n",
    "    switch(action.type){\n",
    "        case \"START_QUIZ\":\n",
    "            return true\n",
    "        case \"END_QUIZ\":\n",
    "            return false\n",
    "        default:\n",
    "            return state\n",
    "    }\n",
    "}"
   ]
  },
  {
   "cell_type": "code",
   "execution_count": 21,
   "id": "9573409c-0394-42bb-b88b-455feda926c2",
   "metadata": {},
   "outputs": [
    {
     "data": {
      "text/plain": [
       "[Function: combination]"
      ]
     },
     "execution_count": 21,
     "metadata": {},
     "output_type": "execute_result"
    }
   ],
   "source": [
    "rootReducer = combineReducers({\n",
    "    questions: questionReducer,\n",
    "    score: scoreReducer,\n",
    "    status: quizStatusReducer\n",
    "})"
   ]
  },
  {
   "cell_type": "code",
   "execution_count": 22,
   "id": "884e5d7b-ab3d-4af5-a764-4edc9394cd9d",
   "metadata": {},
   "outputs": [
    {
     "data": {
      "text/plain": [
       "{ dispatch: [Function: dispatch],\n",
       "  subscribe: [Function: subscribe],\n",
       "  getState: [Function: getState],\n",
       "  replaceReducer: [Function: replaceReducer],\n",
       "  '@@observable': [Function: observable] }"
      ]
     },
     "execution_count": 22,
     "metadata": {},
     "output_type": "execute_result"
    }
   ],
   "source": [
    "store = createStore(rootReducer)"
   ]
  },
  {
   "cell_type": "code",
   "execution_count": 23,
   "id": "ea3b1df3-cb32-440a-8d83-021da78e5bd3",
   "metadata": {},
   "outputs": [
    {
     "data": {
      "text/plain": [
       "{ questions:\n",
       "   [ { question: 'What is the scientific name of a butterfly?',\n",
       "       answers: [Array],\n",
       "       correctIndex: 3 },\n",
       "     { question: 'How hot is the surface of the sun?',\n",
       "       answers: [Array],\n",
       "       correctIndex: 1 },\n",
       "     { question: 'Who are the actors in The Internship?',\n",
       "       answers: [Array],\n",
       "       correctIndex: 3 },\n",
       "     { question: 'What is the capital of Spain?',\n",
       "       answers: [Array],\n",
       "       correctIndex: 2 },\n",
       "     { question:\n",
       "        'What are the school colors of the University of Texas at Austin?',\n",
       "       answers: [Array],\n",
       "       correctIndex: 2 } ],\n",
       "  score: 0,\n",
       "  status: false }"
      ]
     },
     "execution_count": 23,
     "metadata": {},
     "output_type": "execute_result"
    }
   ],
   "source": [
    "store.getState()"
   ]
  },
  {
   "cell_type": "code",
   "execution_count": 24,
   "id": "273065fe-a9e3-43d7-935f-209360f7628c",
   "metadata": {},
   "outputs": [
    {
     "data": {
      "text/plain": [
       "{ type: 'START_QUIZ' }"
      ]
     },
     "execution_count": 24,
     "metadata": {},
     "output_type": "execute_result"
    }
   ],
   "source": [
    "store.dispatch({type: \"START_QUIZ\"})"
   ]
  },
  {
   "cell_type": "code",
   "execution_count": 25,
   "id": "453576a2-8257-461e-999f-a0c416b38d14",
   "metadata": {},
   "outputs": [
    {
     "data": {
      "text/plain": [
       "{ questions:\n",
       "   [ { question: 'What is the scientific name of a butterfly?',\n",
       "       answers: [Array],\n",
       "       correctIndex: 3 },\n",
       "     { question: 'How hot is the surface of the sun?',\n",
       "       answers: [Array],\n",
       "       correctIndex: 1 },\n",
       "     { question: 'Who are the actors in The Internship?',\n",
       "       answers: [Array],\n",
       "       correctIndex: 3 },\n",
       "     { question: 'What is the capital of Spain?',\n",
       "       answers: [Array],\n",
       "       correctIndex: 2 },\n",
       "     { question:\n",
       "        'What are the school colors of the University of Texas at Austin?',\n",
       "       answers: [Array],\n",
       "       correctIndex: 2 } ],\n",
       "  score: 0,\n",
       "  status: true }"
      ]
     },
     "execution_count": 25,
     "metadata": {},
     "output_type": "execute_result"
    }
   ],
   "source": [
    "store.getState()"
   ]
  },
  {
   "cell_type": "markdown",
   "id": "7fe232dd-b4ee-4814-9a82-42e2d909f455",
   "metadata": {},
   "source": [
    "    \n",
    "## Actions\n",
    "| Action Name | Action Description |\n",
    "|-------------|--------------------|\n",
    "| `START_QUIZ`  | User starts the quiz |\n",
    "| `CHOOSE_ANSWER` | User clicks an option out of the given options |\n",
    "| `END_QUIZ` | Triggered when there are no more questions |"
   ]
  },
  {
   "cell_type": "markdown",
   "id": "00f477ea-08fa-4b68-925d-affb443f3dbb",
   "metadata": {
    "tags": []
   },
   "source": [
    "    \n",
    "## Reducers\n",
    "| Reducer Name | Reducer Function |\n",
    "|-|-|\n",
    "| questionReducer  | To track the current question |\n",
    "| scoreReducer | To track count of correctly answered questions |"
   ]
  },
  {
   "cell_type": "markdown",
   "id": "98f9fa19-b338-4095-b67e-c4c4b5d1d927",
   "metadata": {},
   "source": [
    "Quiz data.\n",
    "\n",
    "https://github.com/googlearchive/android-Quiz/blob/master/Application/src/main/assets/Quiz.json\n",
    "\n",
    "*Credit - googlearchive/android-Quiz*"
   ]
  },
  {
   "cell_type": "code",
   "execution_count": 1,
   "id": "bd1943f7-bb63-4cf3-8d94-2bbd873414c4",
   "metadata": {
    "tags": []
   },
   "outputs": [],
   "source": [
    "const initialQuestionsState = [\n",
    "    {\n",
    "        \"question\": \"What is the scientific name of a butterfly?\",\n",
    "        \"answers\": [\n",
    "            \"Apis\",\n",
    "            \"Coleoptera\",\n",
    "            \"Formicidae\",\n",
    "            \"Rhopalocera\"\n",
    "        ],\n",
    "        \"correctIndex\": 3\n",
    "    },\n",
    "    {\n",
    "        \"question\": \"How hot is the surface of the sun?\",\n",
    "        \"answers\": [\n",
    "            \"1,233 K\",\n",
    "            \"5,778 K\",\n",
    "            \"12,130 K\",\n",
    "            \"101,300 K\"\n",
    "        ],\n",
    "        \"correctIndex\": 1\n",
    "    },\n",
    "    {\n",
    "        \"question\": \"Who are the actors in The Internship?\",\n",
    "        \"answers\": [\n",
    "            \"Ben Stiller, Jonah Hill\",\n",
    "            \"Courteney Cox, Matt LeBlanc\",\n",
    "            \"Kaley Cuoco, Jim Parsons\",\n",
    "            \"Vince Vaughn, Owen Wilson\"\n",
    "        ],\n",
    "        \"correctIndex\": 3\n",
    "    },\n",
    "    {\n",
    "        \"question\": \"What is the capital of Spain?\",\n",
    "        \"answers\": [\n",
    "            \"Berlin\",\n",
    "            \"Buenos Aires\",\n",
    "            \"Madrid\",\n",
    "            \"San Juan\"\n",
    "        ],\n",
    "        \"correctIndex\": 2\n",
    "    },\n",
    "    {\n",
    "        \"question\": \"What are the school colors of the University of Texas at Austin?\",\n",
    "        \"answers\": [\n",
    "            \"Black, Red\",\n",
    "            \"Blue, Orange\",\n",
    "            \"White, Burnt Orange\",\n",
    "            \"White, Old gold, Gold\"\n",
    "        ],\n",
    "        \"correctIndex\": 2\n",
    "    }\n",
    "]"
   ]
  },
  {
   "cell_type": "markdown",
   "id": "2a1e178d-d222-400e-ae22-6ac42e891f1f",
   "metadata": {},
   "source": [
    "### Objectives\n",
    "```\n",
    "User should be able to\n",
    "- Start the quiz\n",
    "- Choose an option to answer\n",
    "\n",
    "On the result page display the total score\n",
    "```\n",
    "\n",
    "You being a smart developer(by making a mess in the past with orphan states across the app) start with a state manager."
   ]
  },
  {
   "cell_type": "markdown",
   "id": "667d2a84-fdfd-4c05-a39f-bf52a3a54896",
   "metadata": {},
   "source": [
    "What are the actions required in the quiz app?\n",
    "- User interactions\n",
    "    - Start quiz\n",
    "    - Choose answer\n",
    "- Events in the application\n",
    "    - End quiz"
   ]
  },
  {
   "cell_type": "markdown",
   "id": "fdd79318-be6d-4934-b1bc-344821a74985",
   "metadata": {
    "tags": []
   },
   "source": [
    "What are the states we need for quiz app?\n",
    "- We need a way to track \n",
    "    - the questions\n",
    "    - score"
   ]
  },
  {
   "cell_type": "markdown",
   "id": "696a36cc-e959-4133-90a0-44e3963a69a3",
   "metadata": {},
   "source": [
    "The `questionReducer` will track the current question.\n",
    "The current question will be the first element in `question` state.\n",
    "\n",
    "`questionReducer([a, b, ...], {type: \"CHOOSE_ANSWER\"})` => `[b, ...]`"
   ]
  },
  {
   "cell_type": "code",
   "execution_count": 2,
   "id": "934f2681-05d2-4e41-81f3-b02c076f39f5",
   "metadata": {
    "tags": []
   },
   "outputs": [],
   "source": [
    "function questionReducer(state = initialQuestionsState, action){\n",
    "    switch(action.type){\n",
    "        case \"CHOOSE_ANSWER\":\n",
    "            return state.slice(1)\n",
    "        default:\n",
    "            return state\n",
    "    }\n",
    "}"
   ]
  }
 ],
 "metadata": {
  "kernelspec": {
   "display_name": "JavaScript (Node.js)",
   "language": "javascript",
   "name": "javascript"
  },
  "language_info": {
   "file_extension": ".js",
   "mimetype": "application/javascript",
   "name": "javascript",
   "version": "10.24.0"
  }
 },
 "nbformat": 4,
 "nbformat_minor": 5
}
