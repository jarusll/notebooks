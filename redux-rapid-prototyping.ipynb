{
 "cells": [
  {
   "cell_type": "markdown",
   "metadata": {},
   "source": [
    "The requirements came in, its a quiz app. Nothing like you've seen before.\n",
    "\n",
    "### Objectives\n",
    "```\n",
    "User should be able to\n",
    "- Start the quiz\n",
    "- Choose an option to answer\n",
    "\n",
    "On the result page display the total score\n",
    "```\n",
    "\n",
    "You being a smart developer(by making a mess in the past with orphan states across the app) start with a state manager."
   ]
  },
  {
   "cell_type": "markdown",
   "metadata": {},
   "source": [
    "What do you start with?\n",
    "- Actions"
   ]
  },
  {
   "cell_type": "markdown",
   "metadata": {},
   "source": [
    "What are `Actions`?\n",
    "- User interactable actions\n",
    "- Events in the application logic"
   ]
  },
  {
   "cell_type": "markdown",
   "metadata": {},
   "source": [
    "What are the actions required in the quiz app?\n",
    "- User interactions\n",
    "    - Start quiz\n",
    "    - Choose answer\n",
    "- Events in the application\n",
    "    - End quiz"
   ]
  },
  {
   "cell_type": "markdown",
   "metadata": {},
   "source": [
    "    \n",
    "## Actions\n",
    "| Action Name | Action Description |\n",
    "|-------------|--------------------|\n",
    "| `START_QUIZ`  | User starts the quiz |\n",
    "| `CHOOSE_ANSWER` | User clicks an option out of the given options |\n",
    "| `END_QUIZ` | Triggered when there are no more questions |"
   ]
  },
  {
   "cell_type": "markdown",
   "metadata": {},
   "source": [
    "What does an action look like?\n",
    "- Its a javascript object\n",
    "```json\n",
    "{\n",
    "    \"type\": String,\n",
    "    \"payload\": JSONValue\n",
    "}\n",
    "```\n",
    "- The `type` is a string constant typically representing an action name\n",
    "- The `payload` is the data associated with the action event\n",
    "Eg\n",
    "```json\n",
    "{\n",
    "    \"type\": \"ADD_POST\",\n",
    "    \"payload\": {\n",
    "        \"tags\": [\"solution\"]\n",
    "        \"text\": \"You are a developer...\"\n",
    "    }\n",
    "}\n",
    "```"
   ]
  },
  {
   "cell_type": "markdown",
   "metadata": {},
   "source": [
    "Whats the next step?\n",
    "- `Reducers`"
   ]
  },
  {
   "cell_type": "markdown",
   "metadata": {},
   "source": [
    "What are reducers?\n",
    "- Reducers manage your state using `prevstate` and `action` to give you `nextstate`\n",
    "\n",
    "`PrevState + Action => NextState`"
   ]
  },
  {
   "cell_type": "markdown",
   "metadata": {},
   "source": [
    "What do they look like?\n",
    "- Here's a trivial example of a reducer\n",
    "```javascript\n",
    "function counterReducer(state = initialState, action){\n",
    "    switch(action.type){\n",
    "        case \"INCREMENT\":\n",
    "            return state + 1\n",
    "        case \"DECREMENT\":\n",
    "            return state - 1\n",
    "        default:\n",
    "            return state\n",
    "    }\n",
    "}\n",
    "```"
   ]
  },
  {
   "cell_type": "markdown",
   "metadata": {},
   "source": [
    "How to decide what reducers to make?\n",
    "- Every reducer in the store is associated with a key\n",
    "\n",
    "Eg\n",
    "```json\n",
    "{\n",
    "    \"count\": counterReducer\n",
    "}\n",
    "```\n",
    "\n",
    "- So one good way to figure out the reducers is by determining the states you will access."
   ]
  },
  {
   "cell_type": "markdown",
   "metadata": {},
   "source": [
    "What are the states we need for quiz app?\n",
    "- We need a way to track \n",
    "    - the questions\n",
    "    - score"
   ]
  },
  {
   "cell_type": "markdown",
   "metadata": {
    "tags": []
   },
   "source": [
    "    \n",
    "## Reducers\n",
    "| Reducer Name | Reducer Function |\n",
    "|-|-|\n",
    "| questionReducer  | To track the current question |\n",
    "| scoreReducer | To track count of correctly answered questions |"
   ]
  },
  {
   "cell_type": "code",
   "execution_count": null,
   "metadata": {},
   "outputs": [],
   "source": [
    "const initialQuestionsState = [\n",
    "    {\n",
    "        \"question\": \"What is the scientific name of a butterfly?\",\n",
    "        \"answers\": [\n",
    "            \"Apis\",\n",
    "            \"Coleoptera\",\n",
    "            \"Formicidae\",\n",
    "            \"Rhopalocera\"\n",
    "        ],\n",
    "        \"correctIndex\": 3\n",
    "    },\n",
    "    {\n",
    "        \"question\": \"How hot is the surface of the sun?\",\n",
    "        \"answers\": [\n",
    "            \"1,233 K\",\n",
    "            \"5,778 K\",\n",
    "            \"12,130 K\",\n",
    "            \"101,300 K\"\n",
    "        ],\n",
    "        \"correctIndex\": 1\n",
    "    },\n",
    "    {\n",
    "        \"question\": \"Who are the actors in The Internship?\",\n",
    "        \"answers\": [\n",
    "            \"Ben Stiller, Jonah Hill\",\n",
    "            \"Courteney Cox, Matt LeBlanc\",\n",
    "            \"Kaley Cuoco, Jim Parsons\",\n",
    "            \"Vince Vaughn, Owen Wilson\"\n",
    "        ],\n",
    "        \"correctIndex\": 3\n",
    "    },\n",
    "    {\n",
    "        \"question\": \"What is the capital of Spain?\",\n",
    "        \"answers\": [\n",
    "            \"Berlin\",\n",
    "            \"Buenos Aires\",\n",
    "            \"Madrid\",\n",
    "            \"San Juan\"\n",
    "        ],\n",
    "        \"correctIndex\": 2\n",
    "    },\n",
    "    {\n",
    "        \"question\": \"What are the school colors of the University of Texas at Austin?\",\n",
    "        \"answers\": [\n",
    "            \"Black, Red\",\n",
    "            \"Blue, Orange\",\n",
    "            \"White, Burnt Orange\",\n",
    "            \"White, Old gold, Gold\"\n",
    "        ],\n",
    "        \"correctIndex\": 2\n",
    "    },\n",
    "    {\n",
    "        \"question\": \"What is 70 degrees Fahrenheit in Celsius?\",\n",
    "        \"answers\": [\n",
    "            \"18.8889\",\n",
    "            \"20\",\n",
    "            \"21.1111\",\n",
    "            \"158\"\n",
    "        ],\n",
    "        \"correctIndex\": 2\n",
    "    },\n",
    "    {\n",
    "        \"question\": \"When was Mahatma Gandhi born?\",\n",
    "        \"answers\": [\n",
    "            \"October 2, 1869\",\n",
    "            \"December 15, 1872\",\n",
    "            \"July 18, 1918\",\n",
    "            \"January 15, 1929\"\n",
    "        ],\n",
    "        \"correctIndex\": 0\n",
    "    },\n",
    "    {\n",
    "        \"question\": \"How far is the moon from Earth?\",\n",
    "        \"answers\": [\n",
    "            \"7,918 miles (12,742 km)\",\n",
    "            \"86,881 miles (139,822 km)\",\n",
    "            \"238,400 miles (384,400 km)\",\n",
    "            \"35,980,000 miles (57,910,000 km)\"\n",
    "        ],\n",
    "        \"correctIndex\": 2\n",
    "    },\n",
    "    {\n",
    "        \"question\": \"What is 65 times 52?\",\n",
    "        \"answers\": [\n",
    "            \"117\",\n",
    "            \"3120\",\n",
    "            \"3380\",\n",
    "            \"3520\"\n",
    "        ],\n",
    "        \"correctIndex\": 2\n",
    "    },\n",
    "    {\n",
    "        \"question\": \"How tall is Mount Everest?\",\n",
    "        \"answers\": [\n",
    "            \"6,683 ft (2,037 m)\",\n",
    "            \"7,918 ft (2,413 m)\",\n",
    "            \"19,341 ft (5,895 m)\",\n",
    "            \"29,029 ft (8,847 m)\"\n",
    "        ],\n",
    "        \"correctIndex\": 3\n",
    "    },\n",
    "    {\n",
    "        \"question\": \"When did The Avengers come out?\",\n",
    "        \"answers\": [\n",
    "            \"May 2, 2008\",\n",
    "            \"May 4, 2012\",\n",
    "            \"May 3, 2013\",\n",
    "            \"April 4, 2014\"\n",
    "        ],\n",
    "        \"correctIndex\": 1\n",
    "    },\n",
    "    {\n",
    "        \"question\": \"What is 48,879 in hexidecimal?\",\n",
    "        \"answers\": [\n",
    "            \"0x18C1\",\n",
    "            \"0xBEEF\",\n",
    "            \"0xDEAD\",\n",
    "            \"0x12D591\"\n",
    "        ],\n",
    "        \"correctIndex\": 1\n",
    "    }\n",
    "]"
   ]
  },
  {
   "cell_type": "code",
   "execution_count": null,
   "metadata": {},
   "outputs": [],
   "source": [
    "function questionReducer(state = initialQuestionsState, action){\n",
    "    switch(action.type){\n",
    "        case \"CHOOSE_ANSWER\":\n",
    "            return state.slice(1)\n",
    "        default:\n",
    "            return state\n",
    "    }\n",
    "}"
   ]
  },
  {
   "cell_type": "code",
   "execution_count": null,
   "metadata": {},
   "outputs": [],
   "source": [
    "const initialScore = 0\n",
    "function scoreReducer(state = initialScore, action){\n",
    "    switch(action.type){\n",
    "        case \"CHOOSE_ANSWER\":\n",
    "            if (action.payload.status = true)\n",
    "                return state + 1\n",
    "        default:\n",
    "            return state\n",
    "    }\n",
    "}"
   ]
  },
  {
   "cell_type": "code",
   "execution_count": null,
   "metadata": {},
   "outputs": [],
   "source": [
    "const redux = require('redux')"
   ]
  },
  {
   "cell_type": "code",
   "execution_count": 4,
   "metadata": {},
   "outputs": [
    {
     "data": {
      "text/plain": [
       "[ { question: 'How hot is the surface of the sun?',\n",
       "    answers: [ '1,233 K', '5,778 K', '12,130 K', '101,300 K' ],\n",
       "    correctIndex: 1 },\n",
       "  { question: 'Who are the actors in The Internship?',\n",
       "    answers:\n",
       "     [ 'Ben Stiller, Jonah Hill',\n",
       "       'Courteney Cox, Matt LeBlanc',\n",
       "       'Kaley Cuoco, Jim Parsons',\n",
       "       'Vince Vaughn, Owen Wilson' ],\n",
       "    correctIndex: 3 },\n",
       "  { question: 'What is the capital of Spain?',\n",
       "    answers: [ 'Berlin', 'Buenos Aires', 'Madrid', 'San Juan' ],\n",
       "    correctIndex: 2 },\n",
       "  { question:\n",
       "     'What are the school colors of the University of Texas at Austin?',\n",
       "    answers:\n",
       "     [ 'Black, Red',\n",
       "       'Blue, Orange',\n",
       "       'White, Burnt Orange',\n",
       "       'White, Old gold, Gold' ],\n",
       "    correctIndex: 2 },\n",
       "  { question: 'What is 70 degrees Fahrenheit in Celsius?',\n",
       "    answers: [ '18.8889', '20', '21.1111', '158' ],\n",
       "    correctIndex: 2 },\n",
       "  { question: 'When was Mahatma Gandhi born?',\n",
       "    answers:\n",
       "     [ 'October 2, 1869',\n",
       "       'December 15, 1872',\n",
       "       'July 18, 1918',\n",
       "       'January 15, 1929' ],\n",
       "    correctIndex: 0 },\n",
       "  { question: 'How far is the moon from Earth?',\n",
       "    answers:\n",
       "     [ '7,918 miles (12,742 km)',\n",
       "       '86,881 miles (139,822 km)',\n",
       "       '238,400 miles (384,400 km)',\n",
       "       '35,980,000 miles (57,910,000 km)' ],\n",
       "    correctIndex: 2 },\n",
       "  { question: 'What is 65 times 52?',\n",
       "    answers: [ '117', '3120', '3380', '3520' ],\n",
       "    correctIndex: 2 },\n",
       "  { question: 'How tall is Mount Everest?',\n",
       "    answers:\n",
       "     [ '6,683 ft (2,037 m)',\n",
       "       '7,918 ft (2,413 m)',\n",
       "       '19,341 ft (5,895 m)',\n",
       "       '29,029 ft (8,847 m)' ],\n",
       "    correctIndex: 3 },\n",
       "  { question: 'When did The Avengers come out?',\n",
       "    answers:\n",
       "     [ 'May 2, 2008', 'May 4, 2012', 'May 3, 2013', 'April 4, 2014' ],\n",
       "    correctIndex: 1 },\n",
       "  { question: 'What is 48,879 in hexidecimal?',\n",
       "    answers: [ '0x18C1', '0xBEEF', '0xDEAD', '0x12D591' ],\n",
       "    correctIndex: 1 } ]"
      ]
     },
     "execution_count": 4,
     "metadata": {},
     "output_type": "execute_result"
    }
   ],
   "source": [
    "questionReducer(initialQuestionsState, {type: \"CHOOSE_ANSWER\"})"
   ]
  }
 ],
 "metadata": {
  "kernelspec": {
   "display_name": "JavaScript (Node.js)",
   "language": "javascript",
   "name": "javascript"
  },
  "language_info": {
   "file_extension": ".js",
   "mimetype": "application/javascript",
   "name": "javascript",
   "version": "10.24.0"
  }
 },
 "nbformat": 4,
 "nbformat_minor": 4
}
