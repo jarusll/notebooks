{
 "cells": [
  {
   "cell_type": "code",
   "execution_count": 1,
   "id": "b1e603b3-bc42-46d4-a7b6-0aa992f4bc61",
   "metadata": {
    "tags": []
   },
   "outputs": [],
   "source": [
    "let exec"
   ]
  },
  {
   "cell_type": "code",
   "execution_count": 2,
   "id": "f0c1d8c4-c763-4e48-8b60-26763f4d135e",
   "metadata": {
    "tags": []
   },
   "outputs": [
    {
     "data": {
      "text/plain": [
       "[Function: exec]"
      ]
     },
     "execution_count": 2,
     "metadata": {},
     "output_type": "execute_result"
    }
   ],
   "source": [
    "exec = require('child_process').exec;"
   ]
  },
  {
   "cell_type": "code",
   "execution_count": 3,
   "id": "9699bab6-f9a6-453f-b613-78b2888d7954",
   "metadata": {},
   "outputs": [],
   "source": [
    "function execute(command, callback){\n",
    "    exec(command, function(error, stdout, stderr){ callback(stdout); });\n",
    "};"
   ]
  },
  {
   "cell_type": "code",
   "execution_count": 4,
   "id": "85074e5d-c9ad-4ad0-8d5f-3632b076226e",
   "metadata": {},
   "outputs": [],
   "source": [
    "execute(\"nearley digit-grammer.ne -o digit-grammer.js\", console.log)"
   ]
  },
  {
   "cell_type": "code",
   "execution_count": 5,
   "id": "3ae1e481-43f1-484e-8923-8f272e013aa9",
   "metadata": {},
   "outputs": [],
   "source": [
    "execute(\"pwd\", console.log)"
   ]
  },
  {
   "cell_type": "code",
   "execution_count": 6,
   "id": "697c68e3-0c7f-4763-b13c-73d695e83612",
   "metadata": {
    "tags": []
   },
   "outputs": [
    {
     "name": "stdout",
     "output_type": "stream",
     "text": [
      "\n"
     ]
    }
   ],
   "source": [
    "let nearley\n",
    "let moo\n",
    "let grammer"
   ]
  },
  {
   "cell_type": "code",
   "execution_count": 7,
   "id": "ea848d7a-043f-4fe7-8ead-2948dd8d6a3a",
   "metadata": {
    "tags": []
   },
   "outputs": [
    {
     "name": "stdout",
     "output_type": "stream",
     "text": [
      "/data_dir\n",
      "\n"
     ]
    },
    {
     "data": {
      "text/plain": [
       "{ Lexer: undefined,\n",
       "  ParserRules:\n",
       "   [ { name: 'program',\n",
       "       symbols: [Array],\n",
       "       postprocess: [Function: id] },\n",
       "     { name: 'program', symbols: [Array] },\n",
       "     { name: 'assignment$string$1',\n",
       "       symbols: [Array],\n",
       "       postprocess: [Function: joiner] },\n",
       "     { name: 'assignment',\n",
       "       symbols: [Array],\n",
       "       postprocess: [Function: postprocess] },\n",
       "     { name: 'expr', symbols: [Array], postprocess: [Function: id] },\n",
       "     { name: 'expr', symbols: [Array], postprocess: [Function: id] },\n",
       "     { name: 'expr',\n",
       "       symbols: [Array],\n",
       "       postprocess: [Function: postprocess] },\n",
       "     { name: 'expr', symbols: [Array], postprocess: [Function: id] },\n",
       "     { name: 'expr', symbols: [Array] },\n",
       "     { name: 'operator',\n",
       "       symbols: [Array],\n",
       "       postprocess: [Function: id] },\n",
       "     { name: 'operator',\n",
       "       symbols: [Array],\n",
       "       postprocess: [Function: id] },\n",
       "     { name: 'function$string$1',\n",
       "       symbols: [Array],\n",
       "       postprocess: [Function: joiner] },\n",
       "     { name: 'function',\n",
       "       symbols: [Array],\n",
       "       postprocess: [Function: postprocess] },\n",
       "     { name: 'application', symbols: [Array] },\n",
       "     { name: 'identifier$ebnf$1', symbols: [Array] },\n",
       "     { name: 'identifier$ebnf$1',\n",
       "       symbols: [Array],\n",
       "       postprocess: [Function: arrpush] },\n",
       "     { name: 'identifier',\n",
       "       symbols: [Array],\n",
       "       postprocess: [Function: id] },\n",
       "     { name: 'literal', symbols: [Array] },\n",
       "     { name: 'literal',\n",
       "       symbols: [Array],\n",
       "       postprocess: [Function: id] },\n",
       "     { name: 'literal',\n",
       "       symbols: [Array],\n",
       "       postprocess: [Function: id] },\n",
       "     { name: 'string',\n",
       "       symbols: [Array],\n",
       "       postprocess: [Function: postprocess] },\n",
       "     { name: 'characters',\n",
       "       symbols: [Array],\n",
       "       postprocess: [Function: id] },\n",
       "     { name: 'characters', symbols: [Array] },\n",
       "     { name: 'character$ebnf$1', symbols: [Array] },\n",
       "     { name: 'character$ebnf$1',\n",
       "       symbols: [Array],\n",
       "       postprocess: [Function: arrpush] },\n",
       "     { name: 'character',\n",
       "       symbols: [Array],\n",
       "       postprocess: [Function: id] },\n",
       "     { name: 'boolean$string$1',\n",
       "       symbols: [Array],\n",
       "       postprocess: [Function: joiner] },\n",
       "     { name: 'boolean',\n",
       "       symbols: [Array],\n",
       "       postprocess: [Function: postprocess] },\n",
       "     { name: 'boolean$string$2',\n",
       "       symbols: [Array],\n",
       "       postprocess: [Function: joiner] },\n",
       "     { name: 'boolean',\n",
       "       symbols: [Array],\n",
       "       postprocess: [Function: postprocess] },\n",
       "     { name: 'number', symbols: [Array] },\n",
       "     { name: 'number', symbols: [Array], postprocess: [Function: id] },\n",
       "     { name: 'digits', symbols: [Array] },\n",
       "     { name: 'digits', symbols: [Array], postprocess: [Function: id] },\n",
       "     { name: 'digit', symbols: [Array] } ],\n",
       "  ParserStart: 'program' }"
      ]
     },
     "execution_count": 7,
     "metadata": {},
     "output_type": "execute_result"
    }
   ],
   "source": [
    "moo = require('moo')\n",
    "nearley = require('nearley')\n",
    "grammer = require('./digit-grammer.js')"
   ]
  },
  {
   "cell_type": "code",
   "execution_count": 8,
   "id": "2ca279c8-7474-4480-864e-76e01cbe7cb0",
   "metadata": {
    "tags": []
   },
   "outputs": [
    {
     "data": {
      "text/plain": [
       "Parser {\n",
       "  grammar:\n",
       "   Grammar {\n",
       "     rules:\n",
       "      [ [Rule],\n",
       "        [Rule],\n",
       "        [Rule],\n",
       "        [Rule],\n",
       "        [Rule],\n",
       "        [Rule],\n",
       "        [Rule],\n",
       "        [Rule],\n",
       "        [Rule],\n",
       "        [Rule],\n",
       "        [Rule],\n",
       "        [Rule],\n",
       "        [Rule],\n",
       "        [Rule],\n",
       "        [Rule],\n",
       "        [Rule],\n",
       "        [Rule],\n",
       "        [Rule],\n",
       "        [Rule],\n",
       "        [Rule],\n",
       "        [Rule],\n",
       "        [Rule],\n",
       "        [Rule],\n",
       "        [Rule],\n",
       "        [Rule],\n",
       "        [Rule],\n",
       "        [Rule],\n",
       "        [Rule],\n",
       "        [Rule],\n",
       "        [Rule],\n",
       "        [Rule],\n",
       "        [Rule],\n",
       "        [Rule],\n",
       "        [Rule],\n",
       "        [Rule] ],\n",
       "     start: 'program',\n",
       "     byName:\n",
       "      { program: [Array],\n",
       "        'assignment$string$1': [Array],\n",
       "        assignment: [Array],\n",
       "        expr: [Array],\n",
       "        operator: [Array],\n",
       "        'function$string$1': [Array],\n",
       "        function: [Array],\n",
       "        application: [Array],\n",
       "        'identifier$ebnf$1': [Array],\n",
       "        identifier: [Array],\n",
       "        literal: [Array],\n",
       "        string: [Array],\n",
       "        characters: [Array],\n",
       "        'character$ebnf$1': [Array],\n",
       "        character: [Array],\n",
       "        'boolean$string$1': [Array],\n",
       "        boolean: [Array],\n",
       "        'boolean$string$2': [Array],\n",
       "        number: [Array],\n",
       "        digits: [Array],\n",
       "        digit: [Array] },\n",
       "     lexer: undefined },\n",
       "  options:\n",
       "   { keepHistory: false,\n",
       "     lexer:\n",
       "      StreamLexer { buffer: '', index: 0, line: 1, lastLineBreak: 0 } },\n",
       "  lexer:\n",
       "   StreamLexer { buffer: '', index: 0, line: 1, lastLineBreak: 0 },\n",
       "  lexerState: undefined,\n",
       "  table:\n",
       "   [ Column {\n",
       "       grammar: [Grammar],\n",
       "       index: 0,\n",
       "       states: [Array],\n",
       "       wants: [Object],\n",
       "       scannable: [Array],\n",
       "       completed: {} } ],\n",
       "  current: 0 }"
      ]
     },
     "execution_count": 8,
     "metadata": {},
     "output_type": "execute_result"
    }
   ],
   "source": [
    "parser = new nearley.Parser(nearley.Grammar.fromCompiled(grammer))"
   ]
  },
  {
   "cell_type": "code",
   "execution_count": 9,
   "id": "fcbc2571-e1ef-4da1-a0da-2bb2b056fc44",
   "metadata": {},
   "outputs": [
    {
     "name": "stdout",
     "output_type": "stream",
     "text": [
      "\"1 + 2 + 3\"\n"
     ]
    }
   ],
   "source": [
    "try {\n",
    "    parser.feed(\"1 + 2\")\n",
    "    console.log(JSON.stringify(parser.results[0]))\n",
    "} catch (e){\n",
    "    console.log(e.message)\n",
    "}"
   ]
  }
 ],
 "metadata": {
  "kernelspec": {
   "display_name": "JavaScript (Node.js)",
   "language": "javascript",
   "name": "javascript"
  },
  "language_info": {
   "file_extension": ".js",
   "mimetype": "application/javascript",
   "name": "javascript",
   "version": "10.24.0"
  }
 },
 "nbformat": 4,
 "nbformat_minor": 5
}
