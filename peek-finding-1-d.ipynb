{
 "cells": [
  {
   "cell_type": "markdown",
   "id": "f4da2550-130a-42d6-aac8-7f4cc3b9d471",
   "metadata": {},
   "source": [
    "What is a 1D peak?\n",
    "- An element in a 1D array which is greater than its neighbour"
   ]
  },
  {
   "cell_type": "markdown",
   "id": "771cb002-0c0b-476d-bfa3-19819028f1c5",
   "metadata": {},
   "source": [
    "Which element has the least number of neighbours?\n",
    "- A one without any, Singleton"
   ]
  },
  {
   "cell_type": "markdown",
   "id": "1a9d3c70-10ea-4d7a-92b3-e008fd6fdb5c",
   "metadata": {},
   "source": [
    "Is `7` a peak in `[7]`? -- `Base case 1`\n",
    "- Yes, an uncontested victory."
   ]
  },
  {
   "cell_type": "markdown",
   "id": "3b52b046-57b3-47a0-9096-fda9e041a34c",
   "metadata": {},
   "source": [
    "What the next element which has the least number of neighbours?\n",
    "- Edges, since they have only 1 neighbour\n",
    "\n",
    "Is `7` a peak in `[7, 3, ...]`? -- `Base case left edge`\n",
    "- Yes, since `7 > 3`\n",
    "\n",
    "Is `7` a peak in `[..., 3, 7]`? -- `Base case right edge`\n",
    "- Yes"
   ]
  },
  {
   "cell_type": "markdown",
   "id": "f8583dec-e0c6-4f9c-b75d-5eba6cf7ed44",
   "metadata": {},
   "source": [
    "Is `7` a peak in `[..., 3, 7, 4, ...]`? -- `Base case mid`\n",
    "- Yes, `7 > 3` and `7 > 4`"
   ]
  },
  {
   "cell_type": "markdown",
   "id": "ed6491f7-f0cd-4f87-9237-ede907f06513",
   "metadata": {},
   "source": [
    "Whats the peak in `[1, 2, 3, 4, 5]`, a strictly increasing array?\n",
    "- 5\n",
    "\n",
    "Whats the peak in `[5, 4, 3, 2, 1]`, a strictly decreasing array?\n",
    "- 5\n",
    "\n",
    "Whats the peak in `[5, 5, 5, 5, 5]`, a strictly leveled array?\n",
    "- 5"
   ]
  },
  {
   "cell_type": "markdown",
   "id": "f9bb7d5b-9cf0-4f89-a418-8cf452ae237c",
   "metadata": {},
   "source": [
    "Is `7` a peak in `[..., 3, 7, 9, ...]`?\n",
    "- No, since `9 > 7`\n",
    "\n",
    "Where should we look for a peak next?\n",
    "- `[9, ...]`, since it has atleast 1 peak\n",
    "\n",
    "Reason\n",
    "- Considering the element next to `9` is `8` ie `less than 9`, in this case `9` is a peak\n",
    "- Considering the element next to `9` is `10` ie `greater than 9`, then the slice `[10, ...]` contains the peak element -- `Case right`\n",
    "- Considering the element next to `9` is `9` ie `equal to 9`, in this case `9` is a peak"
   ]
  },
  {
   "cell_type": "markdown",
   "id": "efb2bc64-df61-4b2d-bea9-0080c32c8ada",
   "metadata": {},
   "source": [
    "Whats the peak in `[]`? -- `Base Case 0`\n",
    "- None"
   ]
  },
  {
   "cell_type": "code",
   "execution_count": 42,
   "id": "33e16bd8-8340-4e6c-9986-cb9ea1d92e6b",
   "metadata": {},
   "outputs": [],
   "source": [
    "from math import floor"
   ]
  },
  {
   "cell_type": "code",
   "execution_count": 107,
   "id": "351cfade-6a34-4feb-9faa-0cf5ad1c8d96",
   "metadata": {},
   "outputs": [],
   "source": [
    "def peak(array):\n",
    "    # base case 0\n",
    "    if len(array) == 0:\n",
    "        return None\n",
    "    # base case 1\n",
    "    if len(array) == 1:\n",
    "        return array[0]\n",
    "    [first, second, *rest] = array\n",
    "    # base case left edge\n",
    "    if first >= second:\n",
    "        return first\n",
    "    [*head, secondlast, last] = array\n",
    "    # base case right edge\n",
    "    if secondlast <= last:\n",
    "        return last\n",
    "    mid_index = floor(len(array) / 2)\n",
    "    mid = array[mid_index]\n",
    "    left_to_mid_index = mid_index - 1\n",
    "    left_to_mid = array[left_to_mid_index]\n",
    "    right_to_mid_index = mid_index + 1\n",
    "    right_to_mid = array[right_to_mid_index]\n",
    "    # base case mid\n",
    "    if mid >= left_to_mid and mid >= right_to_mid:\n",
    "        return mid\n",
    "    # case look look right\n",
    "    if mid >= left_to_mid:\n",
    "        return peak(array[mid_index:])\n",
    "    # case look look left\n",
    "    return peak(array[:mid_index + 1])"
   ]
  },
  {
   "cell_type": "code",
   "execution_count": 126,
   "id": "1c3be520-5dd9-4930-b8b6-dbdefaa62d94",
   "metadata": {},
   "outputs": [
    {
     "name": "stdout",
     "output_type": "stream",
     "text": [
      "Input :  [4, 6, 19, 12, 3, 2, 9, 8, 16, 11] \n",
      "Output :  19\n",
      "Input :  [5, 17, 9, 0, 12, 7, 4, 2, 6, 19] \n",
      "Output :  19\n",
      "Input :  [10, 0, 5, 8, 9, 13, 11, 7, 6, 3] \n",
      "Output :  10\n",
      "Input :  [0, 7, 10, 8, 2, 5, 3, 13, 9, 16] \n",
      "Output :  16\n",
      "Input :  [2, 5, 8, 18, 16, 7, 1, 0, 17, 12] \n",
      "Output :  18\n",
      "Input :  [2, 0, 13, 15, 17, 5, 11, 12, 18, 9] \n",
      "Output :  2\n",
      "Input :  [4, 13, 0, 14, 15, 1, 18, 5, 7, 16] \n",
      "Output :  16\n",
      "Input :  [9, 13, 3, 14, 7, 6, 15, 10, 8, 17] \n",
      "Output :  17\n",
      "Input :  [1, 2, 5, 18, 19, 15, 17, 7, 14, 4] \n",
      "Output :  19\n",
      "Input :  [0, 16, 10, 18, 11, 6, 19, 5, 14, 1] \n",
      "Output :  18\n"
     ]
    }
   ],
   "source": [
    "from numpy.random import default_rng\n",
    "\n",
    "for i in range(10):\n",
    "    rng = default_rng()\n",
    "    # generating unique random numbers\n",
    "    input = list(rng.choice(20, size=10, replace=False))\n",
    "    output = peak(input)\n",
    "    index = input.index(output)\n",
    "    # left_index with minimum guard to 0\n",
    "    left_index = index - 1 if index > 0 else 0\n",
    "    # right_index with maximum guard to len(input) - 1\n",
    "    right_index = index + 1 if index < len(input) - 1 else len(input) - 1\n",
    "    assert output >= input[left_index] and output >= input[right_index]\n",
    "    print(\"Input : \", input, \"\\nOutput : \", output)\n",
    "    "
   ]
  }
 ],
 "metadata": {
  "kernelspec": {
   "display_name": "Python 3 (ipykernel)",
   "language": "python",
   "name": "python3"
  },
  "language_info": {
   "codemirror_mode": {
    "name": "ipython",
    "version": 3
   },
   "file_extension": ".py",
   "mimetype": "text/x-python",
   "name": "python",
   "nbconvert_exporter": "python",
   "pygments_lexer": "ipython3",
   "version": "3.10.5"
  }
 },
 "nbformat": 4,
 "nbformat_minor": 5
}
