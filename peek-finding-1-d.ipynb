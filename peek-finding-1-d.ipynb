{
 "cells": [
  {
   "cell_type": "markdown",
   "id": "f4da2550-130a-42d6-aac8-7f4cc3b9d471",
   "metadata": {},
   "source": [
    "What is a 1D peak?\n",
    "- An element in a 1D array which is greater than its neighbour"
   ]
  },
  {
   "cell_type": "markdown",
   "id": "771cb002-0c0b-476d-bfa3-19819028f1c5",
   "metadata": {},
   "source": [
    "Which element has the least number of neighbours?\n",
    "- A one without any, Singleton"
   ]
  },
  {
   "cell_type": "markdown",
   "id": "1a9d3c70-10ea-4d7a-92b3-e008fd6fdb5c",
   "metadata": {},
   "source": [
    "Is `7` a peak in `[7]`? -- `Base case 1`\n",
    "- Yes, an uncontested victory."
   ]
  },
  {
   "cell_type": "markdown",
   "id": "f40bb38a-90d0-4134-9130-4e55a3f41105",
   "metadata": {},
   "source": [
    "Whats the peak in `[7, 8]`? -- `Base case 2`\n",
    "- `8`, max(array) if array has only 2 elements"
   ]
  },
  {
   "cell_type": "markdown",
   "id": "3b52b046-57b3-47a0-9096-fda9e041a34c",
   "metadata": {},
   "source": [
    "What the next element which has the least number of neighbours?\n",
    "- Edges, since they have only 1 neighbour\n",
    "\n",
    "Is `7` a peak in `[7, 3, ...]`? -- `Base case left edge`\n",
    "- Yes, since `7 > 3`\n",
    "\n",
    "Is `7` a peak in `[..., 3, 7]`? -- `Base case right edge`\n",
    "- Yes"
   ]
  },
  {
   "cell_type": "markdown",
   "id": "f8583dec-e0c6-4f9c-b75d-5eba6cf7ed44",
   "metadata": {},
   "source": [
    "Is `7` a peak in `[..., 3, 7, 4, ...]`? -- `Base case mid`\n",
    "- Yes, `7 > 3` and `7 > 4`"
   ]
  },
  {
   "cell_type": "markdown",
   "id": "ed6491f7-f0cd-4f87-9237-ede907f06513",
   "metadata": {},
   "source": [
    "Whats the peak in `[1, 2, 3, 4, 5]`, a strictly increasing array?\n",
    "- 5\n",
    "\n",
    "Whats the peak in `[5, 4, 3, 2, 1]`, a strictly decreasing array?\n",
    "- 5\n",
    "\n",
    "Whats the peak in `[5, 5, 5, 5, 5]`, a strictly leveled array?\n",
    "- 5"
   ]
  },
  {
   "cell_type": "markdown",
   "id": "f9bb7d5b-9cf0-4f89-a418-8cf452ae237c",
   "metadata": {},
   "source": [
    "Is `7` a peak in `[..., 3, 7, 9, ...]`?\n",
    "- No, since `9 > 7`\n",
    "\n",
    "Where should we look for a peak next?\n",
    "- `[9, ...]`, since it has atleast 1 peak\n",
    "\n",
    "Reason\n",
    "- Considering the element next to `9` is `8` ie `less than 9`, in this case `9` is a peak\n",
    "- Considering the element next to `9` is `10` ie `greater than 9`, then the slice `[10, ...]` contains the peak element -- `Case right`\n",
    "- Considering the element next to `9` is `9` ie `equal to 9`, in this case `9` is a peak"
   ]
  },
  {
   "cell_type": "markdown",
   "id": "efb2bc64-df61-4b2d-bea9-0080c32c8ada",
   "metadata": {},
   "source": [
    "Whats the peak in `[]`? -- `Base Case 0`\n",
    "- None"
   ]
  },
  {
   "cell_type": "code",
   "execution_count": 42,
   "id": "33e16bd8-8340-4e6c-9986-cb9ea1d92e6b",
   "metadata": {},
   "outputs": [],
   "source": [
    "from math import floor"
   ]
  },
  {
   "cell_type": "code",
   "execution_count": 107,
   "id": "351cfade-6a34-4feb-9faa-0cf5ad1c8d96",
   "metadata": {},
   "outputs": [],
   "source": [
    "def peak(array):\n",
    "    # Base case 0\n",
    "    if len(array) == 0:\n",
    "        return None\n",
    "    # Base case 1\n",
    "    if len(array) == 1:\n",
    "        return array[0]\n",
    "    [first, second, *rest] = array\n",
    "    # Base case left edge\n",
    "    if first >= second:\n",
    "        return first\n",
    "    [*head, secondlast, last] = array\n",
    "    # Base case right edge\n",
    "    if secondlast <= last:\n",
    "        return last\n",
    "    mid_index = floor(len(array) / 2)\n",
    "    mid = array[mid_index]\n",
    "    left_to_mid_index = mid_index - 1\n",
    "    left_to_mid = array[left_to_mid_index]\n",
    "    right_to_mid_index = mid_index + 1\n",
    "    right_to_mid = array[right_to_mid_index]\n",
    "    # Base case mid\n",
    "    if mid >= left_to_mid and mid >= right_to_mid:\n",
    "        return mid\n",
    "    # case look right\n",
    "    if mid >= left_to_mid:\n",
    "        return peak(array[mid_index:])\n",
    "    # case look left\n",
    "    return peak(array[:mid_index + 1])"
   ]
  },
  {
   "cell_type": "code",
   "execution_count": 298,
   "id": "1c3be520-5dd9-4930-b8b6-dbdefaa62d94",
   "metadata": {},
   "outputs": [
    {
     "name": "stdout",
     "output_type": "stream",
     "text": [
      "Input :  [14, 11, 5, 8, 6, 2, 1, 12, 16, 0] \n",
      "Output :  14\n",
      "Input :  [12, 18, 2, 3, 9, 10, 11, 1, 0, 15] \n",
      "Output :  15\n",
      "Input :  [7, 14, 17, 13, 1, 5, 3, 16, 9, 15] \n",
      "Output :  15\n",
      "Input :  [17, 10, 13, 6, 5, 14, 2, 7, 0, 16] \n",
      "Output :  17\n",
      "Input :  [4, 1, 17, 6, 10, 14, 15, 18, 2, 16] \n",
      "Output :  4\n"
     ]
    }
   ],
   "source": [
    "from numpy.random import default_rng\n",
    "\n",
    "for i in range(5):\n",
    "    rng = default_rng()\n",
    "    # generating unique random numbers\n",
    "    input = list(rng.choice(20, size=10, replace=False))\n",
    "    output = peak(input)\n",
    "    index = input.index(output)\n",
    "    # left_index with minimum guard to 0\n",
    "    left_index = index - 1 if index > 0 else 0\n",
    "    # right_index with maximum guard to len(input) - 1\n",
    "    right_index = index + 1 if index < len(input) - 1 else len(input) - 1\n",
    "    assert output >= input[left_index] and output >= input[right_index]\n",
    "    print(\"Input : \", input, \"\\nOutput : \", output)\n",
    "    "
   ]
  },
  {
   "cell_type": "markdown",
   "id": "bd1051f0-aeef-412f-94bc-837ca1d71866",
   "metadata": {},
   "source": [
    "How about finding all the peaks?\n",
    "- Can be done using the same code and complete search"
   ]
  },
  {
   "cell_type": "code",
   "execution_count": 283,
   "id": "75c71ec4-30a5-4c1b-83a9-74fd6ea02325",
   "metadata": {},
   "outputs": [],
   "source": [
    "def all_peaks(array, peaks = []):\n",
    "    # Base case 0\n",
    "    if len(array) == 0:\n",
    "        return peaks\n",
    "    # Base case 1\n",
    "    if len(array) == 1:\n",
    "        return array + peaks\n",
    "    # Base case 2\n",
    "    if len(array) == 2:\n",
    "        return [max(array)] + peaks\n",
    "    mid_index = floor(len(array) / 2)\n",
    "    mid = array[mid_index]\n",
    "    left_index = mid_index - 1 if mid_index > 0 else 0\n",
    "    right_index = mid_index + 1 if mid_index < len(array) - 1 else len(array) - 1\n",
    "    left = array[left_index]\n",
    "    right = array[right_index]\n",
    "    # Base case mid\n",
    "    if mid >= left and mid >= right:\n",
    "        peaks.append(mid)\n",
    "        left_peaks = all_peaks(array[0:left_index], [])\n",
    "        right_peaks = all_peaks(array[right_index + 1:], [])\n",
    "        return peaks + left_peaks + right_peaks\n",
    "    # [...9, 8, x, ...], for left peaks, since 9 > 8, it is a potential peak\n",
    "    if mid <= left:\n",
    "        left_peaks = all_peaks(array[0:left_index + 1], [])\n",
    "    # [...7, 8, x, ...], for left peaks, 7 is not a potential peak so we can drop it\n",
    "    else:\n",
    "        left_peaks = all_peaks(array[0:left_index], [])\n",
    "    # [...x, 8, 9, ...], for right peaks, since 9 > 8, it is a potential peak\n",
    "    if mid <= right:\n",
    "        right_peaks = all_peaks(array[right_index:], [])\n",
    "    # [...x, 8, 7, ...], for right peaks, 7 is not a potential peak so we can drop it\n",
    "    else:\n",
    "        right_peaks = all_peaks(array[right_index + 1:], [])\n",
    "    return peaks + left_peaks + right_peaks"
   ]
  },
  {
   "cell_type": "code",
   "execution_count": 297,
   "id": "a634ffec-46d3-4c2a-bef4-2ae71388791f",
   "metadata": {},
   "outputs": [
    {
     "name": "stdout",
     "output_type": "stream",
     "text": [
      "Input :  [4, 18, 13, 14, 9, 0, 5, 19, 2, 15] \n",
      "Output :  [18, 14, 19, 15]\n",
      "Input :  [10, 16, 17, 18, 8, 6, 12, 4, 7, 3] \n",
      "Output :  [10, 18, 7, 12]\n",
      "Input :  [8, 7, 16, 5, 2, 6, 19, 13, 9, 3] \n",
      "Output :  [16, 8, 19]\n",
      "Input :  [3, 14, 9, 5, 2, 0, 17, 19, 12, 10] \n",
      "Output :  [14, 2, 19]\n",
      "Input :  [13, 1, 5, 19, 9, 16, 7, 11, 3, 6] \n",
      "Output :  [16, 13, 19, 11, 6]\n"
     ]
    }
   ],
   "source": [
    "from numpy.random import default_rng\n",
    "\n",
    "for i in range(5):\n",
    "    rng = default_rng()\n",
    "    # generating unique random numbers\n",
    "    input = list(rng.choice(20, size=10, replace=False))\n",
    "    output = all_peaks(input, [])\n",
    "    print(\"Input : \", input, \"\\nOutput : \", output)"
   ]
  }
 ],
 "metadata": {
  "kernelspec": {
   "display_name": "Python 3 (ipykernel)",
   "language": "python",
   "name": "python3"
  },
  "language_info": {
   "codemirror_mode": {
    "name": "ipython",
    "version": 3
   },
   "file_extension": ".py",
   "mimetype": "text/x-python",
   "name": "python",
   "nbconvert_exporter": "python",
   "pygments_lexer": "ipython3",
   "version": "3.10.5"
  }
 },
 "nbformat": 4,
 "nbformat_minor": 5
}
