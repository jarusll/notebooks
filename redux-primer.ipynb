{
 "cells": [
  {
   "cell_type": "markdown",
   "id": "b749447a-60f8-4226-ab24-2f0bf3c97a81",
   "metadata": {},
   "source": [
    "## Want to run this notebook interactively?\n",
    "- [![Binder](https://mybinder.org/badge_logo.svg)](https://mybinder.org/v2/gh/jarusll/notebooks.git/master?labpath=%2Fredux-primer.ipynb)\n",
    "\n",
    "## And follow the steps\n",
    "- Select **Python 3(ipykernel)** for Kernel\n",
    "- Run the following block"
   ]
  },
  {
   "cell_type": "code",
   "execution_count": null,
   "id": "e3ff0c0d-c319-4799-ba3f-9d73ab3e863e",
   "metadata": {},
   "outputs": [],
   "source": [
    "!npm i -g ijavascript --unsafe-perm\n",
    "!ijsinstall\n",
    "!npm i @reduxjs/toolkit"
   ]
  },
  {
   "cell_type": "markdown",
   "id": "3e05a2b9-bfdf-4940-9abd-1e92c9fb01f8",
   "metadata": {},
   "source": [
    "Refresh the page and select **Javascript(Node.js)** for Kernel"
   ]
  },
  {
   "cell_type": "markdown",
   "id": "bcbd2a27-30fb-401a-9c36-aed9bc830443",
   "metadata": {},
   "source": [
    "# Redux Primer"
   ]
  },
  {
   "cell_type": "markdown",
   "id": "a1ab3025-f696-4834-a459-71b2089c28bc",
   "metadata": {},
   "source": [
    "What do you start with?\n",
    "\n",
    "-   Actions\n",
    "\n",
    "What are `Actions`?\n",
    "\n",
    "-   User interactable actions\n",
    "-   Events in the application logic\n",
    "\n",
    "What does an action look like?\n",
    "\n",
    "-   Its a javascript object\n",
    "\n",
    "    ```json\n",
    "    {\n",
    "        \"type\": String,\n",
    "        \"payload\": JSONValue\n",
    "    }\n",
    "    ```"
   ]
  },
  {
   "cell_type": "markdown",
   "id": "03a5b42e-73d4-4f18-8980-f65724fc901c",
   "metadata": {},
   "source": [
    "-   The `type` is a string constant typically representing an action name\n",
    "-   The `payload` is the data associated with the action event\n",
    "\n",
    "Eg\n",
    "\n",
    "```json\n",
    "{\n",
    "    \"type\": \"ADD_POST\",\n",
    "    \"payload\": {\n",
    "\t\"tags\": [\"primer\"]\n",
    "\t\"text\": \"What do you start with?...\"\n",
    "    }\n",
    "}\n",
    "```"
   ]
  },
  {
   "cell_type": "markdown",
   "id": "f775564b-896d-4db1-99cd-da5ab31057bc",
   "metadata": {},
   "source": [
    "Would it be convenient if we had helper functions to create the action objects?\n",
    "\n",
    "-   Yes, they are called action creators"
   ]
  },
  {
   "cell_type": "code",
   "execution_count": 1,
   "id": "1dd38c7b-395b-4f33-8f63-c8c3386cb41d",
   "metadata": {},
   "outputs": [],
   "source": [
    "function addPost({tags, text}){\n",
    "    return {\n",
    "        type: \"ADD_POST\",\n",
    "        payload: {\n",
    "            tags,\n",
    "            text\n",
    "        }\n",
    "    }\n",
    "}"
   ]
  },
  {
   "cell_type": "markdown",
   "id": "a19f4839-94ce-42cd-abb6-2b6e23dfee43",
   "metadata": {},
   "source": [
    "Can we do better?\n",
    "\n",
    "-   Yes, `createAction`, thanks `@reduxjs/toolkit`"
   ]
  },
  {
   "cell_type": "code",
   "execution_count": 2,
   "id": "bf0852c7-6ab3-4230-9b5b-7da5a6fdd72f",
   "metadata": {},
   "outputs": [],
   "source": [
    "const { createAction } = require('@reduxjs/toolkit')"
   ]
  },
  {
   "cell_type": "code",
   "execution_count": 3,
   "id": "27ec4057-755b-419f-803d-b19f7714d3a8",
   "metadata": {
    "tags": []
   },
   "outputs": [
    {
     "data": {
      "text/plain": [
       "{ [Function: actionCreator] toString: [Function], type: 'ADD_POST', match: [Function] }"
      ]
     },
     "execution_count": 3,
     "metadata": {},
     "output_type": "execute_result"
    }
   ],
   "source": [
    "addPost = createAction('ADD_POST')"
   ]
  },
  {
   "cell_type": "code",
   "execution_count": 4,
   "id": "4df33bbd-d84f-4a8f-9877-11284290395a",
   "metadata": {},
   "outputs": [
    {
     "data": {
      "text/plain": [
       "{ type: 'ADD_POST',\n",
       "  payload: { tags: [ 'primer' ], text: 'What do you start with?...' } }"
      ]
     },
     "execution_count": 4,
     "metadata": {},
     "output_type": "execute_result"
    }
   ],
   "source": [
    "addPost({tags: [\"primer\"], text: \"What do you start with?...\"})"
   ]
  },
  {
   "cell_type": "markdown",
   "id": "f210dddd-f608-464c-88b6-301f7e6e8af8",
   "metadata": {},
   "source": [
    "Whats the next step?\n",
    "\n",
    "-   `Reducers`"
   ]
  },
  {
   "cell_type": "markdown",
   "id": "fe10e352-dc6b-4e9b-aa08-988d47591de9",
   "metadata": {},
   "source": [
    "What are reducers?\n",
    "\n",
    "-   Reducers manage your state using `prevstate` and `action` to give you `nextstate`\n",
    "\n",
    "-   `PrevState + Action => NextState`"
   ]
  },
  {
   "cell_type": "markdown",
   "id": "cc333359-e688-451c-8280-dcc81c602011",
   "metadata": {},
   "source": [
    "What do they look like?\n",
    "\n",
    "-   Here's a trivial example of a reducer"
   ]
  },
  {
   "cell_type": "code",
   "execution_count": 5,
   "id": "c044ada6-7603-4ed5-af6b-f76d08268fe7",
   "metadata": {},
   "outputs": [],
   "source": [
    "let initialState = 0\n",
    "function counterReducer(state = initialState, action){\n",
    "    switch(action.type){\n",
    "        case \"INCREMENT\":\n",
    "            return state + 1\n",
    "        case \"DECREMENT\":\n",
    "            return state - 1\n",
    "        default:\n",
    "            return state\n",
    "    }\n",
    "}"
   ]
  },
  {
   "cell_type": "code",
   "execution_count": 6,
   "id": "8a59695d-4f8a-4f3a-b610-dcd4d9df0db2",
   "metadata": {},
   "outputs": [
    {
     "data": {
      "text/plain": [
       "11"
      ]
     },
     "execution_count": 6,
     "metadata": {},
     "output_type": "execute_result"
    }
   ],
   "source": [
    "counterReducer(10, {type: \"INCREMENT\"})"
   ]
  },
  {
   "cell_type": "markdown",
   "id": "a5207d6f-2850-402b-8d6f-7f3ac94734f2",
   "metadata": {},
   "source": [
    "Can we do better?\n",
    "\n",
    "-   Yes, `createReducer`, thanks again `@reduxjs/toolkit`\n",
    "\n",
    "<!--listend-->"
   ]
  },
  {
   "cell_type": "code",
   "execution_count": 7,
   "id": "503647e1-24d2-4c85-b04a-41168470492d",
   "metadata": {
    "tags": []
   },
   "outputs": [
    {
     "data": {
      "text/plain": [
       "{ [Function: reducer] getInitialState: [Function: getInitialState] }"
      ]
     },
     "execution_count": 7,
     "metadata": {},
     "output_type": "execute_result"
    }
   ],
   "source": [
    "const { createReducer } = require('@reduxjs/toolkit')\n",
    "\n",
    "let increment = createAction('counter/increment')\n",
    "let decrement = createAction('counter/decrement')\n",
    "\n",
    "initialState = 0\n",
    "counterReducer = createReducer(initialState, (builder) => {\n",
    "    builder\n",
    "\t.addCase(increment, (state, action) => state + 1)\n",
    "\t.addCase(decrement, (state, action) => state - 1)\n",
    "})"
   ]
  },
  {
   "cell_type": "code",
   "execution_count": 8,
   "id": "817139c5-b43f-4d5a-a4e3-a451094948d4",
   "metadata": {},
   "outputs": [
    {
     "data": {
      "text/plain": [
       "11"
      ]
     },
     "execution_count": 8,
     "metadata": {},
     "output_type": "execute_result"
    }
   ],
   "source": [
    "counterReducer(10, increment())"
   ]
  },
  {
   "cell_type": "markdown",
   "id": "72cd2d60-f97a-46f7-8174-b67827918af8",
   "metadata": {},
   "source": [
    "Can we couple counter actions &amp; counter reducer for convenience?\n",
    "\n",
    "-   Yes, its called a `slice`"
   ]
  },
  {
   "cell_type": "markdown",
   "id": "119a2000-d2b1-40a2-bf63-c39259d9fe78",
   "metadata": {},
   "source": [
    "Why is it called slice?\n",
    "\n",
    "-   Because they are a slice of the global state"
   ]
  },
  {
   "cell_type": "code",
   "execution_count": 9,
   "id": "553ee8d9-5c5d-4b46-b235-b51f3160d5fa",
   "metadata": {
    "tags": []
   },
   "outputs": [
    {
     "data": {
      "text/plain": [
       "0"
      ]
     },
     "execution_count": 9,
     "metadata": {},
     "output_type": "execute_result"
    }
   ],
   "source": [
    "const { createSlice } = require('@reduxjs/toolkit')\n",
    "\n",
    "initialState = 0\n",
    "const counterSlice = createSlice({\n",
    "    name: 'counter',\n",
    "    initialState,\n",
    "    reducers: {\n",
    "        increment: (state) => state + 1,\n",
    "        decrement: (state) => state - 1\n",
    "    },\n",
    "})"
   ]
  },
  {
   "cell_type": "code",
   "execution_count": 10,
   "id": "459ecc56-17c8-41c0-884c-27be3f07e20e",
   "metadata": {},
   "outputs": [
    {
     "data": {
      "text/plain": [
       "11"
      ]
     },
     "execution_count": 10,
     "metadata": {},
     "output_type": "execute_result"
    }
   ],
   "source": [
    "increment = counterSlice.actions.increment\n",
    "counterReducer = counterSlice.reducer\n",
    "counterReducer(10, counterSlice.actions.increment())"
   ]
  },
  {
   "cell_type": "markdown",
   "id": "bbfebd66-bb5e-4efb-9b63-d23f8d05d7a5",
   "metadata": {},
   "source": [
    "**From this point on, `reducers` and `slices` may be used interchangably**"
   ]
  },
  {
   "cell_type": "markdown",
   "id": "1b0c3ab7-af78-456b-8aa0-c6efebf84dd6",
   "metadata": {},
   "source": [
    "How to decide what reducers to make?\n",
    "\n",
    "-   Every reducer in the store(global state) is associated with a key\n",
    "\n",
    "Eg - The value returned by `counterReducer` will be associated with key `count` in global state.\n",
    "\n",
    "```json\n",
    "{\n",
    "    \"count\": counterReducer\n",
    "}\n",
    "```\n",
    "\n",
    "-   So one good way to figure out the reducers is by determining the states you will access."
   ]
  },
  {
   "cell_type": "markdown",
   "id": "8e098926-b1ae-44ed-b977-c6afdfda209f",
   "metadata": {},
   "source": [
    "Whats the next part?\n",
    "\n",
    "-   `Store`"
   ]
  },
  {
   "cell_type": "markdown",
   "id": "f98b01f4-e518-4916-b358-0ce75a84918c",
   "metadata": {},
   "source": [
    "Whats a store?\n",
    "\n",
    "-   The store is the global state"
   ]
  },
  {
   "cell_type": "markdown",
   "id": "0f4060f2-9920-46be-9401-b72f991b1c7b",
   "metadata": {},
   "source": [
    "How do you make a store?"
   ]
  },
  {
   "cell_type": "code",
   "execution_count": 11,
   "id": "72222c6c-eac5-4ade-b875-d40c97078b7e",
   "metadata": {},
   "outputs": [],
   "source": [
    "const { configureStore } = require('@reduxjs/toolkit')\n",
    "const store = configureStore({\n",
    "    reducer: {\n",
    "        count: counterSlice.reducer\n",
    "    }\n",
    "})"
   ]
  },
  {
   "cell_type": "markdown",
   "id": "7c98b9a5-8065-405e-bcaf-80a71b0d55d5",
   "metadata": {},
   "source": [
    "How do you change state?\n",
    "\n",
    "-   By dispatching actions\n",
    "    "
   ]
  },
  {
   "cell_type": "code",
   "execution_count": 12,
   "id": "e85fb2a4-09c7-4703-bf9b-fa5b8038bb53",
   "metadata": {},
   "outputs": [
    {
     "data": {
      "text/plain": [
       "{ type: 'counter/increment', payload: undefined }"
      ]
     },
     "execution_count": 12,
     "metadata": {},
     "output_type": "execute_result"
    }
   ],
   "source": [
    "store.dispatch(increment())"
   ]
  },
  {
   "cell_type": "markdown",
   "id": "3735a4b3-f885-45f5-9b27-e371bb72c94d",
   "metadata": {},
   "source": [
    "How do you access the state?"
   ]
  },
  {
   "cell_type": "code",
   "execution_count": 13,
   "id": "5b13b6f8-7084-4f6c-85fa-48e3692eec6f",
   "metadata": {},
   "outputs": [
    {
     "data": {
      "text/plain": [
       "{ count: 1 }"
      ]
     },
     "execution_count": 13,
     "metadata": {},
     "output_type": "execute_result"
    }
   ],
   "source": [
    "store.getState()"
   ]
  },
  {
   "cell_type": "markdown",
   "id": "7042111f-4c50-4bd7-b521-7624f3052a8b",
   "metadata": {},
   "source": [
    "Has `redux` come a long way?\n",
    "\n",
    "-   Yes, thanks `@reduxjs/toolkit`"
   ]
  }
 ],
 "metadata": {
  "kernelspec": {
   "display_name": "JavaScript (Node.js)",
   "language": "javascript",
   "name": "javascript"
  },
  "language_info": {
   "file_extension": ".js",
   "mimetype": "application/javascript",
   "name": "javascript",
   "version": "10.24.0"
  }
 },
 "nbformat": 4,
 "nbformat_minor": 5
}
