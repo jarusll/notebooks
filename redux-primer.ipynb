{
 "cells": [
  {
   "cell_type": "markdown",
   "metadata": {
    "tags": []
   },
   "source": [
    "What do you start with?\n",
    "- Actions"
   ]
  },
  {
   "cell_type": "markdown",
   "metadata": {},
   "source": [
    "What are `Actions`?\n",
    "- User interactable actions\n",
    "- Events in the application logic"
   ]
  },
  {
   "cell_type": "markdown",
   "metadata": {},
   "source": [
    "What does an action look like?\n",
    "- Its a javascript object\n",
    "```json\n",
    "{\n",
    "    \"type\": String,\n",
    "    \"payload\": JSONValue\n",
    "}\n",
    "```\n",
    "- The `type` is a string constant typically representing an action name\n",
    "- The `payload` is the data associated with the action event\n",
    "Eg\n",
    "```json\n",
    "{\n",
    "    \"type\": \"ADD_POST\",\n",
    "    \"payload\": {\n",
    "        \"tags\": [\"solution\"]\n",
    "        \"text\": \"You are a developer...\"\n",
    "    }\n",
    "}\n",
    "```"
   ]
  },
  {
   "cell_type": "markdown",
   "metadata": {},
   "source": [
    "Whats the next step?\n",
    "- `Reducers`"
   ]
  },
  {
   "cell_type": "markdown",
   "metadata": {},
   "source": [
    "What are reducers?\n",
    "- Reducers manage your state using `prevstate` and `action` to give you `nextstate`\n",
    "\n",
    "`PrevState + Action => NextState`"
   ]
  },
  {
   "cell_type": "markdown",
   "metadata": {},
   "source": [
    "What do they look like?\n",
    "- Here's a trivial example of a reducer\n",
    "```javascript\n",
    "const initialState = 0\n",
    "function counterReducer(state = initialState, action){\n",
    "    switch(action.type){\n",
    "        case \"INCREMENT\":\n",
    "            return state + 1\n",
    "        case \"DECREMENT\":\n",
    "            return state - 1\n",
    "        default:\n",
    "            return state\n",
    "    }\n",
    "}\n",
    "```"
   ]
  },
  {
   "cell_type": "markdown",
   "metadata": {},
   "source": [
    "How to decide what reducers to make?\n",
    "- Every reducer in the store(global state) is associated with a key\n",
    "\n",
    "Eg - The value returned by `counterReducer` will be associated with key `count` in global state.\n",
    "```json\n",
    "{\n",
    "    \"count\": counterReducer\n",
    "}\n",
    "```\n",
    "\n",
    "- So one good way to figure out the reducers is by determining the states you will access."
   ]
  },
  {
   "cell_type": "markdown",
   "metadata": {},
   "source": [
    "The `questionReducer` will track the current question.\n",
    "The current question will be the first element in `question` state.\n",
    "\n",
    "`questionReducer([a, b, ...], {type: \"CHOOSE_ANSWER\"})` => `[b, ...]`"
   ]
  },
  {
   "cell_type": "markdown",
   "metadata": {
    "tags": []
   },
   "source": [
    "What are the states we need for quiz app?\n",
    "- We need a way to track \n",
    "    - the questions\n",
    "    - score"
   ]
  },
  {
   "cell_type": "code",
   "execution_count": null,
   "metadata": {
    "tags": []
   },
   "outputs": [],
   "source": [
    "function questionReducer(state = initialQuestionsState, action){\n",
    "    switch(action.type){\n",
    "        case \"CHOOSE_ANSWER\":\n",
    "            return state.slice(1)\n",
    "        default:\n",
    "            return state\n",
    "    }\n",
    "}"
   ]
  },
  {
   "cell_type": "markdown",
   "metadata": {},
   "source": [
    "Testing `questionReducer`"
   ]
  },
  {
   "cell_type": "code",
   "execution_count": null,
   "metadata": {},
   "outputs": [
    {
     "data": {
      "text/plain": [
       "[ { question: 'How hot is the surface of the sun?',\n",
       "    answers: [ '1,233 K', '5,778 K', '12,130 K', '101,300 K' ],\n",
       "    correctIndex: 1 },\n",
       "  { question: 'Who are the actors in The Internship?',\n",
       "    answers:\n",
       "     [ 'Ben Stiller, Jonah Hill',\n",
       "       'Courteney Cox, Matt LeBlanc',\n",
       "       'Kaley Cuoco, Jim Parsons',\n",
       "       'Vince Vaughn, Owen Wilson' ],\n",
       "    correctIndex: 3 },\n",
       "  { question: 'What is the capital of Spain?',\n",
       "    answers: [ 'Berlin', 'Buenos Aires', 'Madrid', 'San Juan' ],\n",
       "    correctIndex: 2 },\n",
       "  { question:\n",
       "     'What are the school colors of the University of Texas at Austin?',\n",
       "    answers:\n",
       "     [ 'Black, Red',\n",
       "       'Blue, Orange',\n",
       "       'White, Burnt Orange',\n",
       "       'White, Old gold, Gold' ],\n",
       "    correctIndex: 2 } ]"
      ]
     },
     "execution_count": 3,
     "metadata": {},
     "output_type": "execute_result"
    }
   ],
   "source": [
    "questionReducer(initialQuestionsState, {type: \"CHOOSE_ANSWER\"})"
   ]
  },
  {
   "cell_type": "markdown",
   "metadata": {},
   "source": [
    "`scoreReducer` will track the count of correct answered questions.\n",
    "`payload.answerStatus` will contain answer state. `true` for `Correct` and `false` for `Incorrect` \n",
    "\n",
    "`scoreReducer(x, {type: \"CHOOSE_ANSWER\", payload: {answerStatus: true}})` => `x + 1`\n",
    "\n",
    "`scoreReducer(x, {type: \"CHOOSE_ANSWER\", payload: {answerStatus: false}})` => `x`"
   ]
  },
  {
   "cell_type": "code",
   "execution_count": null,
   "metadata": {
    "tags": []
   },
   "outputs": [],
   "source": [
    "const initialScore = 0"
   ]
  },
  {
   "cell_type": "code",
   "execution_count": null,
   "metadata": {
    "tags": []
   },
   "outputs": [],
   "source": [
    "function scoreReducer(state = initialScore, action){\n",
    "    switch(action.type){\n",
    "        case \"CHOOSE_ANSWER\":\n",
    "            if (action.payload.answerStatus == true)\n",
    "                return state + 1\n",
    "            return state\n",
    "        default:\n",
    "            return state\n",
    "    }\n",
    "}"
   ]
  },
  {
   "cell_type": "markdown",
   "metadata": {},
   "source": [
    "Testing `scoreReducer`"
   ]
  },
  {
   "cell_type": "code",
   "execution_count": null,
   "metadata": {
    "tags": []
   },
   "outputs": [
    {
     "data": {
      "text/plain": [
       "1"
      ]
     },
     "execution_count": 6,
     "metadata": {},
     "output_type": "execute_result"
    }
   ],
   "source": [
    "scoreReducer(0, {type: \"CHOOSE_ANSWER\", payload: {answerStatus: true}})"
   ]
  },
  {
   "cell_type": "code",
   "execution_count": null,
   "metadata": {},
   "outputs": [
    {
     "data": {
      "text/plain": [
       "0"
      ]
     },
     "execution_count": 7,
     "metadata": {},
     "output_type": "execute_result"
    }
   ],
   "source": [
    "scoreReducer(0, {type: \"CHOOSE_ANSWER\", payload: {answerStatus: false}})"
   ]
  },
  {
   "cell_type": "markdown",
   "metadata": {},
   "source": [
    "Would it be convenient if we had helper functions to create the action objects?\n",
    "- Yes, they are called action creators\n",
    "\n",
    "How about the action names?\n",
    "- We can define them as constants "
   ]
  },
  {
   "cell_type": "markdown",
   "metadata": {},
   "source": [
    "## Action name constants"
   ]
  },
  {
   "cell_type": "code",
   "execution_count": null,
   "metadata": {},
   "outputs": [],
   "source": [
    "const START_QUIZ =  \"START_QUIZ\"\n",
    "const CHOOSE_ANSWER =  \"CHOOSE_ANSWER\"\n",
    "const END_QUIZ =  \"END_QUIZ\""
   ]
  },
  {
   "cell_type": "markdown",
   "metadata": {},
   "source": [
    "## Action creator "
   ]
  },
  {
   "cell_type": "code",
   "execution_count": null,
   "metadata": {},
   "outputs": [],
   "source": [
    "function chooseAnswer(choice, answer){\n",
    "    if (choice == answer)\n",
    "        return {\n",
    "            type: \"CHOOSE_ANSWER\",\n",
    "            payload: {\n",
    "                answerStatus: true\n",
    "            }\n",
    "        }\n",
    "    return {\n",
    "        type: \"CHOOSE_ANSWER\",\n",
    "        payload: {\n",
    "            answerStatus: false\n",
    "        }\n",
    "    }\n",
    "}"
   ]
  },
  {
   "cell_type": "code",
   "execution_count": null,
   "metadata": {
    "tags": []
   },
   "outputs": [],
   "source": [
    "const redux = require('redux')"
   ]
  },
  {
   "cell_type": "markdown",
   "metadata": {},
   "source": [
    "Do we need combineReducers?\n",
    "- Yes, since we have multiple reducers, and a store can only have 1 reducer"
   ]
  },
  {
   "cell_type": "code",
   "execution_count": null,
   "metadata": {
    "tags": []
   },
   "outputs": [],
   "source": [
    "const { combineReducers } = redux"
   ]
  },
  {
   "cell_type": "markdown",
   "metadata": {},
   "source": [
    "Every reducer is associated with a key in global state"
   ]
  },
  {
   "cell_type": "code",
   "execution_count": null,
   "metadata": {},
   "outputs": [],
   "source": [
    "let rootReducer = combineReducers({\n",
    "    questions: questionReducer,\n",
    "    score: scoreReducer\n",
    "})"
   ]
  },
  {
   "cell_type": "markdown",
   "metadata": {},
   "source": [
    "Whats the next part?\n",
    "- Store\n",
    "\n",
    "Whats a store?\n",
    "- The store is the global state"
   ]
  }
 ],
 "metadata": {
  "kernelspec": {
   "display_name": "JavaScript (Node.js)",
   "language": "javascript",
   "name": "javascript"
  },
  "language_info": {
   "file_extension": ".js",
   "mimetype": "application/javascript",
   "name": "javascript",
   "version": "10.24.0"
  }
 },
 "nbformat": 4,
 "nbformat_minor": 4
}
